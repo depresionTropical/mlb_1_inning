{
 "cells": [
  {
   "cell_type": "code",
   "execution_count": 1,
   "id": "1a645e50",
   "metadata": {},
   "outputs": [],
   "source": [
    "import pandas as pd\n",
    "from sklearn.model_selection import StratifiedKFold\n",
    "from sklearn.pipeline import Pipeline\n",
    "from sklearn.preprocessing import StandardScaler\n",
    "from sklearn.metrics import accuracy_score, f1_score, roc_auc_score\n",
    "from sklearn.linear_model import LogisticRegression\n",
    "from sklearn.ensemble import RandomForestClassifier\n",
    "from xgboost import XGBClassifier"
   ]
  },
  {
   "cell_type": "code",
   "execution_count": 12,
   "id": "ec6b73fc",
   "metadata": {},
   "outputs": [],
   "source": [
    "# data\n",
    "df = pd.read_csv('./data/mlb_data.csv')\n",
    "\n",
    "feature_cols = [\n",
    "    \"home_pitcher_true_freq\", \"away_pitcher_true_freq\",\n",
    "    \"home_pitcher_vs_team_freq\", \"away_pitcher_vs_team_freq\",\n",
    "    \"home_pitcher_vs_team_freq_count\", \"away_pitcher_vs_team_freq_count\",\n",
    "    \"home_pitcher_last3_freq_1st\", \"away_pitcher_last3_freq_1st\",\n",
    "    \"home_pitcher_momentum\", \"away_pitcher_momentum\",\n",
    "    \"home_pitcher_vs_away_team_momentum\", \"away_pitcher_vs_home_team_momentum\",\n",
    "    \"home_team_inning1_scaled\", \"away_team_inning1_scaled\",\n",
    "    \"umpire_inning1_scaled\", \"stadium_inning1_scaled\"\n",
    "]\n",
    "df.fillna(0, inplace=True)"
   ]
  },
  {
   "cell_type": "code",
   "execution_count": 13,
   "id": "3b0c5c3d",
   "metadata": {},
   "outputs": [],
   "source": [
    "models = {\n",
    "    'LogisticRegression': LogisticRegression(max_iter=1000),\n",
    "    'RandomForest': RandomForestClassifier(n_estimators=100, random_state=42),\n",
    "    'XGBoost': XGBClassifier(use_label_encoder=False, eval_metric='logloss', random_state=42)\n",
    "}"
   ]
  },
  {
   "cell_type": "code",
   "execution_count": 25,
   "id": "7dde3a95",
   "metadata": {},
   "outputs": [],
   "source": [
    "X = df[feature_cols]\n",
    "y = df['target']\n",
    "kf = StratifiedKFold(n_splits=5, shuffle=True, random_state=42)"
   ]
  },
  {
   "cell_type": "code",
   "execution_count": 26,
   "id": "9107b906",
   "metadata": {},
   "outputs": [],
   "source": [
    "models = {\n",
    "    'LogisticRegression': LogisticRegression(max_iter=1000),\n",
    "    'RandomForest': RandomForestClassifier(n_estimators=300,   \n",
    "    max_depth=None,     \n",
    "    min_samples_leaf=4, \n",
    "    max_features=0.1,   \n",
    "    bootstrap=True,     \n",
    "    random_state=42),\n",
    "    'XGBoost': XGBClassifier(use_label_encoder=False, eval_metric='logloss', random_state=42)\n",
    "}"
   ]
  },
  {
   "cell_type": "code",
   "execution_count": 27,
   "id": "f71b941b",
   "metadata": {},
   "outputs": [
    {
     "name": "stdout",
     "output_type": "stream",
     "text": [
      "\n",
      "model: LogisticRegression\n",
      "  Fold 1 - Acc: 0.899 | F1: 0.891 | ROC AUC: 0.970\n",
      "  Fold 2 - Acc: 0.899 | F1: 0.891 | ROC AUC: 0.973\n",
      "  Fold 3 - Acc: 0.914 | F1: 0.907 | ROC AUC: 0.979\n",
      "  Fold 4 - Acc: 0.900 | F1: 0.890 | ROC AUC: 0.969\n",
      "  Fold 5 - Acc: 0.877 | F1: 0.865 | ROC AUC: 0.965\n",
      "\n",
      "model: RandomForest\n",
      "  Fold 1 - Acc: 0.890 | F1: 0.879 | ROC AUC: 0.959\n",
      "  Fold 2 - Acc: 0.900 | F1: 0.894 | ROC AUC: 0.966\n",
      "  Fold 3 - Acc: 0.928 | F1: 0.923 | ROC AUC: 0.976\n",
      "  Fold 4 - Acc: 0.916 | F1: 0.908 | ROC AUC: 0.967\n",
      "  Fold 5 - Acc: 0.897 | F1: 0.889 | ROC AUC: 0.962\n",
      "\n",
      "model: XGBoost\n",
      "  Fold 1 - Acc: 0.897 | F1: 0.890 | ROC AUC: 0.975\n"
     ]
    },
    {
     "name": "stderr",
     "output_type": "stream",
     "text": [
      "/home/hugo/Documents/Job/mlb_1_inning/venv/lib/python3.12/site-packages/xgboost/training.py:183: UserWarning: [23:21:13] WARNING: /workspace/src/learner.cc:738: \n",
      "Parameters: { \"use_label_encoder\" } are not used.\n",
      "\n",
      "  bst.update(dtrain, iteration=i, fobj=obj)\n",
      "/home/hugo/Documents/Job/mlb_1_inning/venv/lib/python3.12/site-packages/xgboost/training.py:183: UserWarning: [23:21:13] WARNING: /workspace/src/learner.cc:738: \n",
      "Parameters: { \"use_label_encoder\" } are not used.\n",
      "\n",
      "  bst.update(dtrain, iteration=i, fobj=obj)\n"
     ]
    },
    {
     "name": "stdout",
     "output_type": "stream",
     "text": [
      "  Fold 2 - Acc: 0.904 | F1: 0.898 | ROC AUC: 0.975\n"
     ]
    },
    {
     "name": "stderr",
     "output_type": "stream",
     "text": [
      "/home/hugo/Documents/Job/mlb_1_inning/venv/lib/python3.12/site-packages/xgboost/training.py:183: UserWarning: [23:21:13] WARNING: /workspace/src/learner.cc:738: \n",
      "Parameters: { \"use_label_encoder\" } are not used.\n",
      "\n",
      "  bst.update(dtrain, iteration=i, fobj=obj)\n"
     ]
    },
    {
     "name": "stdout",
     "output_type": "stream",
     "text": [
      "  Fold 3 - Acc: 0.922 | F1: 0.918 | ROC AUC: 0.982\n",
      "  Fold 4 - Acc: 0.919 | F1: 0.911 | ROC AUC: 0.979\n"
     ]
    },
    {
     "name": "stderr",
     "output_type": "stream",
     "text": [
      "/home/hugo/Documents/Job/mlb_1_inning/venv/lib/python3.12/site-packages/xgboost/training.py:183: UserWarning: [23:21:14] WARNING: /workspace/src/learner.cc:738: \n",
      "Parameters: { \"use_label_encoder\" } are not used.\n",
      "\n",
      "  bst.update(dtrain, iteration=i, fobj=obj)\n",
      "/home/hugo/Documents/Job/mlb_1_inning/venv/lib/python3.12/site-packages/xgboost/training.py:183: UserWarning: [23:21:14] WARNING: /workspace/src/learner.cc:738: \n",
      "Parameters: { \"use_label_encoder\" } are not used.\n",
      "\n",
      "  bst.update(dtrain, iteration=i, fobj=obj)\n"
     ]
    },
    {
     "name": "stdout",
     "output_type": "stream",
     "text": [
      "  Fold 5 - Acc: 0.893 | F1: 0.886 | ROC AUC: 0.974\n"
     ]
    }
   ],
   "source": [
    "results = []\n",
    "\n",
    "for model_name, model in models.items():\n",
    "    print(f\"\\nmodel: {model_name}\")\n",
    "    accs, f1s, aucs = [], [], []\n",
    "\n",
    "    for fold, (train_idx, val_idx) in enumerate(kf.split(X, y)):\n",
    "        X_train, X_val = X.iloc[train_idx], X.iloc[val_idx]\n",
    "        y_train, y_val = y.iloc[train_idx], y.iloc[val_idx]\n",
    "\n",
    "        # Pipeline: escalado + modelo\n",
    "        pipe = Pipeline([\n",
    "            ('scaler', StandardScaler()),\n",
    "            ('model', model)\n",
    "        ])\n",
    "        pipe.fit(X_train, y_train)\n",
    "        y_pred = pipe.predict(X_val)\n",
    "        y_proba = pipe.predict_proba(X_val)[:, 1] if hasattr(pipe, \"predict_proba\") else y_pred\n",
    "\n",
    "        accs.append(accuracy_score(y_val, y_pred))\n",
    "        f1s.append(f1_score(y_val, y_pred))\n",
    "        aucs.append(roc_auc_score(y_val, y_proba))\n",
    "\n",
    "        print(f\"  Fold {fold+1} - Acc: {accs[-1]:.3f} | F1: {f1s[-1]:.3f} | ROC AUC: {aucs[-1]:.3f}\")\n",
    "\n",
    "    results.append({\n",
    "        'model': model_name,\n",
    "        'acc_mean': sum(accs)/len(accs),\n",
    "        'f1_mean': sum(f1s)/len(f1s),\n",
    "        'auc_mean': sum(aucs)/len(aucs)\n",
    "    })\n"
   ]
  },
  {
   "cell_type": "code",
   "execution_count": 28,
   "id": "0ccadb39",
   "metadata": {},
   "outputs": [],
   "source": [
    "results_df = pd.DataFrame(results).sort_values(by='auc_mean', ascending=False)"
   ]
  },
  {
   "cell_type": "code",
   "execution_count": 29,
   "id": "9362c499",
   "metadata": {},
   "outputs": [
    {
     "data": {
      "text/html": [
       "<div>\n",
       "<style scoped>\n",
       "    .dataframe tbody tr th:only-of-type {\n",
       "        vertical-align: middle;\n",
       "    }\n",
       "\n",
       "    .dataframe tbody tr th {\n",
       "        vertical-align: top;\n",
       "    }\n",
       "\n",
       "    .dataframe thead th {\n",
       "        text-align: right;\n",
       "    }\n",
       "</style>\n",
       "<table border=\"1\" class=\"dataframe\">\n",
       "  <thead>\n",
       "    <tr style=\"text-align: right;\">\n",
       "      <th></th>\n",
       "      <th>model</th>\n",
       "      <th>acc_mean</th>\n",
       "      <th>f1_mean</th>\n",
       "      <th>auc_mean</th>\n",
       "    </tr>\n",
       "  </thead>\n",
       "  <tbody>\n",
       "    <tr>\n",
       "      <th>2</th>\n",
       "      <td>XGBoost</td>\n",
       "      <td>0.906916</td>\n",
       "      <td>0.900525</td>\n",
       "      <td>0.977179</td>\n",
       "    </tr>\n",
       "    <tr>\n",
       "      <th>0</th>\n",
       "      <td>LogisticRegression</td>\n",
       "      <td>0.897882</td>\n",
       "      <td>0.888972</td>\n",
       "      <td>0.971128</td>\n",
       "    </tr>\n",
       "    <tr>\n",
       "      <th>1</th>\n",
       "      <td>RandomForest</td>\n",
       "      <td>0.906296</td>\n",
       "      <td>0.898590</td>\n",
       "      <td>0.966166</td>\n",
       "    </tr>\n",
       "  </tbody>\n",
       "</table>\n",
       "</div>"
      ],
      "text/plain": [
       "                model  acc_mean   f1_mean  auc_mean\n",
       "2             XGBoost  0.906916  0.900525  0.977179\n",
       "0  LogisticRegression  0.897882  0.888972  0.971128\n",
       "1        RandomForest  0.906296  0.898590  0.966166"
      ]
     },
     "execution_count": 29,
     "metadata": {},
     "output_type": "execute_result"
    }
   ],
   "source": [
    "results_df"
   ]
  }
 ],
 "metadata": {
  "kernelspec": {
   "display_name": "venv",
   "language": "python",
   "name": "python3"
  },
  "language_info": {
   "codemirror_mode": {
    "name": "ipython",
    "version": 3
   },
   "file_extension": ".py",
   "mimetype": "text/x-python",
   "name": "python",
   "nbconvert_exporter": "python",
   "pygments_lexer": "ipython3",
   "version": "3.12.3"
  }
 },
 "nbformat": 4,
 "nbformat_minor": 5
}
